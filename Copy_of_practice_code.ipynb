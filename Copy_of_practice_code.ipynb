{
  "nbformat": 4,
  "nbformat_minor": 0,
  "metadata": {
    "colab": {
      "provenance": [],
      "authorship_tag": "ABX9TyMS/1h17/d18IaQkWS0r3ki",
      "include_colab_link": true
    },
    "kernelspec": {
      "name": "python3",
      "display_name": "Python 3"
    },
    "language_info": {
      "name": "python"
    }
  },
  "cells": [
    {
      "cell_type": "markdown",
      "metadata": {
        "id": "view-in-github",
        "colab_type": "text"
      },
      "source": [
        "<a href=\"https://colab.research.google.com/github/LatoyaHuiZheng/Certificate/blob/main/Copy_of_practice_code.ipynb\" target=\"_parent\"><img src=\"https://colab.research.google.com/assets/colab-badge.svg\" alt=\"Open In Colab\"/></a>"
      ]
    },
    {
      "cell_type": "code",
      "execution_count": null,
      "metadata": {
        "id": "-gGDWM0b2d2r"
      },
      "outputs": [],
      "source": []
    },
    {
      "cell_type": "code",
      "source": [],
      "metadata": {
        "id": "OHiCJLeh2ioN"
      },
      "execution_count": null,
      "outputs": []
    },
    {
      "cell_type": "code",
      "source": [],
      "metadata": {
        "id": "Ds6UZtzp2iqz"
      },
      "execution_count": null,
      "outputs": []
    },
    {
      "cell_type": "code",
      "source": [],
      "metadata": {
        "id": "JLMPaQvV2itZ"
      },
      "execution_count": null,
      "outputs": []
    },
    {
      "cell_type": "code",
      "source": [],
      "metadata": {
        "id": "rEs9iSwe2ix2"
      },
      "execution_count": null,
      "outputs": []
    },
    {
      "cell_type": "code",
      "source": [],
      "metadata": {
        "id": "A3P3DS5M2i0d"
      },
      "execution_count": null,
      "outputs": []
    },
    {
      "cell_type": "code",
      "source": [],
      "metadata": {
        "id": "aZMiSosH2i2y"
      },
      "execution_count": null,
      "outputs": []
    },
    {
      "cell_type": "code",
      "source": [
        "#1389，Create Target Array in the Given Order\n",
        "def CreateTargetArray(nums, index):\n",
        "    Target = []\n",
        "    for i in range(len(nums)):\n",
        "      num, dex = nums[i],index[i]\n",
        "      Target.insert(dex, num)\n",
        "    return Target\n",
        "\n",
        "nums = [0, 1, 2, 3, 4]\n",
        "index = [0, 1, 2, 2, 1]\n",
        "result = CreateTargetArray(nums, index)\n",
        "print(result)\n"
      ],
      "metadata": {
        "colab": {
          "base_uri": "https://localhost:8080/"
        },
        "id": "wCidkEbV2i47",
        "outputId": "097c24ab-6171-4a59-9fa3-5cfe6d1a99a5"
      },
      "execution_count": null,
      "outputs": [
        {
          "output_type": "stream",
          "name": "stdout",
          "text": [
            "[0, 4, 1, 3, 2]\n"
          ]
        }
      ]
    },
    {
      "cell_type": "code",
      "source": [
        "#1313,Decompress Run-length Encoded List\n",
        "def DecompressR(nums):\n",
        "  Solution = []\n",
        "  for i in range(0, len(nums),2):\n",
        "     freg = nums[i]\n",
        "     val = nums[i + 1]\n",
        "     Solution.extend([val]*freg)\n",
        "  return Solution\n",
        "\n",
        "nums = [3, 1, 4, 2]\n",
        "Solution = DecompressR(nums)\n",
        "print(Solution)"
      ],
      "metadata": {
        "id": "U4bYo9QN363B",
        "colab": {
          "base_uri": "https://localhost:8080/"
        },
        "outputId": "989a353f-b7ef-454e-c1d5-1e8790de2200"
      },
      "execution_count": null,
      "outputs": [
        {
          "output_type": "stream",
          "name": "stdout",
          "text": [
            "[1, 1, 1, 2, 2, 2, 2]\n"
          ]
        }
      ]
    },
    {
      "cell_type": "code",
      "source": [
        "#1662. Check If Two String Arrays are Equivalent\n",
        "def StringArray(word1, word2):\n",
        "  str1 = \" \"\n",
        "  for i in word1:\n",
        "    str1 += i\n",
        "  str2 = \" \"\n",
        "  for i in word2:\n",
        "    str2 += i\n",
        "  return str1 == str2\n",
        "\n",
        "word1 = [\"ab\", \"c\"]\n",
        "word2 = [\"a\", \"bc\"]\n",
        "\n",
        "result = StringArray(word1, word2)\n",
        "print(result)"
      ],
      "metadata": {
        "id": "eO7H7GyQ37I0",
        "colab": {
          "base_uri": "https://localhost:8080/"
        },
        "outputId": "f2a034db-a80d-476e-d070-e6f8c09b31e6"
      },
      "execution_count": null,
      "outputs": [
        {
          "output_type": "stream",
          "name": "stdout",
          "text": [
            "True\n"
          ]
        }
      ]
    },
    {
      "cell_type": "code",
      "source": [
        "#\n",
        "def count_matches(items, ruleKey, ruleValue):\n",
        "    count = 0\n",
        "\n",
        "    for item in items:\n",
        "        # 根据规则检查是否匹配\n",
        "        if (ruleKey == \"type\" and ruleValue == item[0]) or \\\n",
        "           (ruleKey == \"color\" and ruleValue == item[1]) or \\\n",
        "           (ruleKey == \"name\" and ruleValue == item[2]):\n",
        "            count += 1\n",
        "\n",
        "    return count\n",
        "\n",
        "# 例子：\n",
        "items = [[\"phone\",\"blue\",\"pixel\"],[\"computer\",\"silver\",\"lenovo\"],[\"phone\",\"gold\",\"iphone\"]]\n",
        "ruleKey = \"color\"\n",
        "ruleValue = \"silver\"\n",
        "\n",
        "result = count_matches(items, ruleKey, ruleValue)\n",
        "print(result)\n"
      ],
      "metadata": {
        "id": "NKpoo2eD37L_",
        "colab": {
          "base_uri": "https://localhost:8080/"
        },
        "outputId": "20a3a3b3-00b4-4c3b-8196-b30d4d5a77f9"
      },
      "execution_count": null,
      "outputs": [
        {
          "output_type": "stream",
          "name": "stdout",
          "text": [
            "1\n"
          ]
        }
      ]
    },
    {
      "cell_type": "code",
      "source": [
        "#2367. Number of Arithmetic Triplets\n",
        "from typing import List\n",
        "\n",
        "class Solution:\n",
        "   def arithmeticTriplets(self, nums: List[int], diff: List[int]) -> int:\n",
        "       res = 0\n",
        "       for i in range(len(nums)):\n",
        "         if nums[i] + diff in nums and nums[i] + diff * 2 in nums:\n",
        "            res += 1\n",
        "       return res\n",
        "\n",
        "nums = [0,1,4,6,7,10]\n",
        "diff = 3\n",
        "res = Solution().arithmeticTriplets(nums, diff)\n",
        "print(res)\n"
      ],
      "metadata": {
        "id": "NxwZOubm37PI",
        "colab": {
          "base_uri": "https://localhost:8080/"
        },
        "outputId": "e725b45d-1886-49ea-fdab-0171a0157656"
      },
      "execution_count": null,
      "outputs": [
        {
          "output_type": "stream",
          "name": "stdout",
          "text": [
            "2\n"
          ]
        }
      ]
    },
    {
      "cell_type": "code",
      "source": [
        "#1572. Matrix Diagonal Sum\n",
        "class Solution:\n",
        "  def diagonalSum(self, mat: list[list[int]]) -> int:\n",
        "    res = 0\n",
        "    n = len(mat)\n",
        "    for i in range(len(mat)):\n",
        "      res += mat[i][i]\n",
        "      if i != n - 1 - i:\n",
        "        res += mat[i][n - 1 - i]\n",
        "    return res\n",
        "\n",
        "mat = [\n",
        "    [1, 2, 3],\n",
        "    [4, 5, 6],\n",
        "    [7, 8, 9]\n",
        "]\n",
        "res = Solution().diagonalSum(mat)\n",
        "print(res)"
      ],
      "metadata": {
        "id": "4zkYRBm937SD",
        "colab": {
          "base_uri": "https://localhost:8080/"
        },
        "outputId": "23598416-0545-4a76-dc30-47be29839be5"
      },
      "execution_count": null,
      "outputs": [
        {
          "output_type": "stream",
          "name": "stdout",
          "text": [
            "25\n"
          ]
        }
      ]
    },
    {
      "cell_type": "code",
      "source": [
        "#2913. Subarrays Distinct Element Sum of Squares I\n",
        "\n"
      ],
      "metadata": {
        "id": "fEc3Hcp6XSRp"
      },
      "execution_count": null,
      "outputs": []
    },
    {
      "cell_type": "code",
      "source": [
        "#1266. Minimum Time Visiting All Points\n",
        "class Solution:\n",
        "  def MinimumTimeVisiting(self, points:list[list[int]]) -> int:\n",
        "     res = 0\n",
        "     for i in range(1,len(points)):\n",
        "       delta_x = abs(points[i][0] - points[i-1][0])\n",
        "       delta_y = abs(points[i][1] - points[i-1][1])\n",
        "       res += max(delta_x, delta_y)\n",
        "     return res\n",
        "\n",
        "points = [[1,1],[3,4],[-1,0]]\n",
        "res = Solution().MinimumTimeVisiting(points)\n",
        "print(res)\n"
      ],
      "metadata": {
        "id": "LUXQuD6rXSUe",
        "colab": {
          "base_uri": "https://localhost:8080/"
        },
        "outputId": "15d37189-4e75-4b7c-ee2c-b63ae5ffe610"
      },
      "execution_count": null,
      "outputs": [
        {
          "output_type": "stream",
          "name": "stdout",
          "text": [
            "7\n"
          ]
        }
      ]
    },
    {
      "cell_type": "code",
      "source": [
        "#1534. Count Good Triplets\n",
        "class Solution:\n",
        "  def countGoodTriplets(self, arr:list[int],a:int, b:int, c:int) -> int:\n",
        "    res = 0\n",
        "    for i in range(len(arr)-2):\n",
        "      for j in range(i+1, len(arr)-1):\n",
        "        for k in range(j+1, len(arr)):\n",
        "          if abs(arr[i] - arr[j]) <= a and abs(arr[j] - arr[k]) <= b and abs(arr[i] - arr[k]) <= c:\n",
        "            res += 1\n",
        "    return res\n",
        "\n",
        "\n",
        "arr_example = [3, 0, 1, 1, 9, 7]\n",
        "a_example, b_example, c_example = 7, 2, 3\n",
        "result_example = Solution().countGoodTriplets(arr_example, a_example, b_example, c_example)\n",
        "print(result_example)"
      ],
      "metadata": {
        "id": "WgfBzEczXSXW",
        "colab": {
          "base_uri": "https://localhost:8080/"
        },
        "outputId": "25817a01-76ac-4048-c87a-bdf311f7ebff"
      },
      "execution_count": null,
      "outputs": [
        {
          "output_type": "stream",
          "name": "stdout",
          "text": [
            "4\n"
          ]
        }
      ]
    },
    {
      "cell_type": "code",
      "source": [
        "#2418. Sort the People\n",
        "class Solution:\n",
        "  def sortpeople(self, names, heights) -> int:\n",
        "    res = 0\n",
        "    sorted_data = sorted(zip(names,heights), key=lambda X: X[1], reverse=True)\n",
        "    res = [name for name, height in sorted_data]\n",
        "    return res\n",
        "\n",
        "names_example = [\"Alice\", \"Bob\", \"Charlie\", \"David\"]\n",
        "heights_example = [170, 180, 165, 175]\n",
        "\n",
        "result_example = Solution().sortpeople(names_example, heights_example)\n",
        "print(result_example)\n"
      ],
      "metadata": {
        "id": "wRDCNFrNXScU",
        "colab": {
          "base_uri": "https://localhost:8080/"
        },
        "outputId": "3c51fa36-5d64-4b62-f314-0ee3fd69c727"
      },
      "execution_count": null,
      "outputs": [
        {
          "output_type": "stream",
          "name": "stdout",
          "text": [
            "['Bob', 'David', 'Alice', 'Charlie']\n"
          ]
        }
      ]
    },
    {
      "cell_type": "code",
      "source": [
        "#2778. Sum of Squares of Special Elements\n",
        "class Solution:\n",
        "  def SumofSquares(self, nums):\n",
        "    res = 0\n",
        "    n = len(nums)\n",
        "    for i in range(1, n+1):\n",
        "       if n % i == 0:\n",
        "          res += nums[i-1]**2\n",
        "    return res\n",
        "\n",
        "nums_example = [1, 2, 3, 4, 5, 6]\n",
        "result_example = Solution().SumofSquares(nums_example)\n",
        "print(result_example)"
      ],
      "metadata": {
        "colab": {
          "base_uri": "https://localhost:8080/"
        },
        "id": "8F2lMO1ueXT2",
        "outputId": "b2841282-092d-4d4f-e563-758c0249e8d3"
      },
      "execution_count": null,
      "outputs": [
        {
          "output_type": "stream",
          "name": "stdout",
          "text": [
            "50\n"
          ]
        }
      ]
    },
    {
      "cell_type": "code",
      "source": [
        "#1827. Minimum Operations to Make the Array Increasing\n",
        "class Solution:\n",
        "  def MinimumOperations(self, nums):\n",
        "    res = 0\n",
        "    for i in range(1, len(nums)):\n",
        "      if nums[i] <= nums[i-1]:\n",
        "         res += nums[i-1] - nums[i] + 1\n",
        "         nums[i] = nums[i-1] + 1\n",
        "    return res\n",
        "\n",
        "nums_example = [1, 1, 1]\n",
        "result_example = Solution().MinimumOperations(nums_example)\n",
        "print(result_example)"
      ],
      "metadata": {
        "colab": {
          "base_uri": "https://localhost:8080/"
        },
        "id": "-fdmccDYeXWb",
        "outputId": "ff1321d7-f13b-4254-8e7c-7599390df694"
      },
      "execution_count": null,
      "outputs": [
        {
          "output_type": "stream",
          "name": "stdout",
          "text": [
            "3\n"
          ]
        }
      ]
    },
    {
      "cell_type": "code",
      "source": [
        "#1979. Find Greatest Common Divisor of Array\n",
        "class Solution:\n",
        "  def FindGreatestCommon(self, nums):\n",
        "    res = 0\n",
        "    a = min(nums)\n",
        "    b = max(nums)\n",
        "    for i in range(1, a+1):\n",
        "      if a % i == 0 and b % i == 0:\n",
        "         res = max(i, res)\n",
        "    return res\n",
        "\n",
        "nums_example = [2,5,6,9,10]\n",
        "result_example = Solution().FindGreatestCommon(nums_example)\n",
        "print(result_example)"
      ],
      "metadata": {
        "colab": {
          "base_uri": "https://localhost:8080/"
        },
        "id": "LRRMoM6EeXab",
        "outputId": "a8871903-ad85-4ad7-aea1-fa9d1a6036f6"
      },
      "execution_count": null,
      "outputs": [
        {
          "output_type": "stream",
          "name": "stdout",
          "text": [
            "2\n"
          ]
        }
      ]
    },
    {
      "cell_type": "code",
      "source": [
        "#561. Array Partition\n",
        "class Solution:\n",
        "  def Arraypartition(self, nums):\n",
        "    sorted(nums)\n",
        "    res = sum(nums[0: :2])\n",
        "    return res\n",
        "\n",
        "nums_example = [1,4,3,2]\n",
        "result_example = Solution().Arraypartition(nums_example)\n",
        "print(result_example)"
      ],
      "metadata": {
        "colab": {
          "base_uri": "https://localhost:8080/"
        },
        "id": "bdpOnx2veXdH",
        "outputId": "dcde87aa-2b3f-4c8e-c576-25c5ce8e5290"
      },
      "execution_count": null,
      "outputs": [
        {
          "output_type": "stream",
          "name": "stdout",
          "text": [
            "4\n"
          ]
        }
      ]
    },
    {
      "cell_type": "code",
      "source": [
        "#1351. Count Negative Numbers in a Sorted Matrix\n",
        "from typing import List\n",
        "class Solution:\n",
        "    def countNegatives(self, grid: List[List[int]]) -> int:\n",
        "        res = 0\n",
        "        for row in grid:\n",
        "            for element in row:\n",
        "                if element < 0:\n",
        "                   res += 1\n",
        "        return res\n",
        "\n",
        "grid_example = [[4,3,2,-1],[3,2,1,-1],[1,1,-1,-2],[-1,-1,-2,-3]]\n",
        "result_example = Solution().countNegatives(grid_example)\n",
        "print(result_example)\n"
      ],
      "metadata": {
        "colab": {
          "base_uri": "https://localhost:8080/"
        },
        "id": "lLPG9R4xopHi",
        "outputId": "d0ec42ed-64b1-434a-87e4-ca32fe57b8ef"
      },
      "execution_count": null,
      "outputs": [
        {
          "output_type": "stream",
          "name": "stdout",
          "text": [
            "8\n"
          ]
        }
      ]
    },
    {
      "cell_type": "code",
      "source": [
        "#1748. Sum of Unique Elements"
      ],
      "metadata": {
        "id": "Y3KpZs_UopLH"
      },
      "execution_count": null,
      "outputs": []
    },
    {
      "cell_type": "code",
      "source": [
        "class Solution:\n",
        "  def Sumofunique(self, nums):\n",
        "    res = 0\n",
        "    for i in nums:\n",
        "      if nums.count(i) == 1:\n",
        "         res += i\n",
        "    return res\n",
        "\n",
        "\n",
        "nums_example = [1,2,3,2]\n",
        "result_example = Solution().Sumofunique(nums_example)\n",
        "print(result_example)\n"
      ],
      "metadata": {
        "colab": {
          "base_uri": "https://localhost:8080/"
        },
        "id": "-q5PDYd7opSa",
        "outputId": "a3a1ba36-b01f-46e6-bd04-09df77cdcf8b"
      },
      "execution_count": null,
      "outputs": [
        {
          "output_type": "stream",
          "name": "stdout",
          "text": [
            "4\n"
          ]
        }
      ]
    },
    {
      "cell_type": "code",
      "source": [
        "from os import truncate\n",
        "#1207. Unique Number of Occurrences\n",
        "class Solution:\n",
        "  def Uniquenumber(self, arr):\n",
        "    res = []\n",
        "    for i in set(arr):\n",
        "      i = arr.count(i)\n",
        "      if i in res:\n",
        "        return False\n",
        "      else:\n",
        "        res.append(i)\n",
        "    return True\n",
        "\n",
        "arr_example = [1,2,2,1,1,3]\n",
        "result_example = Solution().Uniquenumber(arr_example)\n",
        "print(result_example)\n"
      ],
      "metadata": {
        "colab": {
          "base_uri": "https://localhost:8080/"
        },
        "id": "whesdSjnopUs",
        "outputId": "aef30299-d0ee-4f88-e3d2-b6b68d18097f"
      },
      "execution_count": null,
      "outputs": [
        {
          "output_type": "stream",
          "name": "stdout",
          "text": [
            "True\n"
          ]
        }
      ]
    },
    {
      "cell_type": "code",
      "source": [
        "#2733. Neither Minimum nor Maximum\n",
        "class Solution:\n",
        "    def NeitherMinNorMax(self, nums):\n",
        "      res = 0\n",
        "      a = min(nums)\n",
        "      b = max(nums)\n",
        "      for i in nums:\n",
        "        if i > a and i < b:\n",
        "          return i\n",
        "      return -1\n",
        "\n",
        "nums_example = [1,2,2,1,1,3]\n",
        "result_example = Solution().NeitherMinNorMax(nums_example)\n",
        "print(result_example)\n"
      ],
      "metadata": {
        "id": "I2rgSSCjopXJ",
        "colab": {
          "base_uri": "https://localhost:8080/"
        },
        "outputId": "5104b53d-b2de-43d1-aa57-63a3f4791199"
      },
      "execution_count": null,
      "outputs": [
        {
          "output_type": "stream",
          "name": "stdout",
          "text": [
            "2\n"
          ]
        }
      ]
    },
    {
      "cell_type": "code",
      "source": [
        "#2670. Find the Distinct Difference Array\n",
        "class Solution:\n",
        "  def FindTheDistinct(self, nums):\n",
        "    res = 0\n",
        "    for i in range(len(nums)):\n",
        "      perfix_nums = set(nums[ :i+1])\n",
        "      subfix_nums = set(nums[i+1: ])\n",
        "      res = len(perfix_nums) - len(subfix_nums)\n",
        "    return res\n",
        "\n",
        "nums_example = [1,2,3,4,5]\n",
        "result_example = Solution().FindTheDistinct(nums_example)\n",
        "print(result_example)\n"
      ],
      "metadata": {
        "id": "YqmEoMHoopZv",
        "colab": {
          "base_uri": "https://localhost:8080/"
        },
        "outputId": "37021b3c-663e-44b4-f9ba-cbd61dbc9997"
      },
      "execution_count": null,
      "outputs": [
        {
          "output_type": "stream",
          "name": "stdout",
          "text": [
            "5\n"
          ]
        }
      ]
    },
    {
      "cell_type": "code",
      "source": [
        "#1051. Height Checker\n",
        "class Solution:\n",
        "  def HeightChecker(self, heights):\n",
        "    res = 0\n",
        "    expected_height = sorted(heights)\n",
        "    for i in range(len(heights)):\n",
        "      if heights[i] != expected_height[i]:\n",
        "         res += 1\n",
        "    return res\n",
        "\n",
        "heights_example = [1,1,4,2,1,3]\n",
        "result_example = Solution().HeightChecker(heights_example)\n",
        "print(result_example)"
      ],
      "metadata": {
        "id": "N2Txwjy9ophY",
        "colab": {
          "base_uri": "https://localhost:8080/"
        },
        "outputId": "8de82797-e790-4fd7-f4d9-e62ea5ac9043"
      },
      "execution_count": null,
      "outputs": [
        {
          "output_type": "stream",
          "name": "stdout",
          "text": [
            "3\n"
          ]
        }
      ]
    },
    {
      "cell_type": "code",
      "source": [
        "#1304. Find N Unique Integers Sum up to Zero\n",
        "class Solution:\n",
        "  def FindNUnique(self, n):\n",
        "    res = []\n",
        "    for i in range(1, n//2+1):\n",
        "      res.append(i)\n",
        "      res.append(-i)\n",
        "    if n % 2 == 1:\n",
        "      res.append(0)\n",
        "    return res\n",
        "\n",
        "n = 5\n",
        "result_example = Solution().FindNUnique(n)\n",
        "print(result_example)"
      ],
      "metadata": {
        "id": "N_E4pxVDopkG",
        "colab": {
          "base_uri": "https://localhost:8080/"
        },
        "outputId": "64b1a96f-daae-4e09-9ed5-0bdcdc08b177"
      },
      "execution_count": null,
      "outputs": [
        {
          "output_type": "stream",
          "name": "stdout",
          "text": [
            "[1, -1, 2, -2, 0]\n"
          ]
        }
      ]
    },
    {
      "cell_type": "code",
      "source": [
        "#2951. Find the Peaks\n",
        "class Solution:\n",
        "  def FindthePeaks(self, mountain):\n",
        "    res = []\n",
        "    for i in range(1, len(mountain)-1):\n",
        "      if mountain[i-1] < mountain[i] and mountain[i] > mountain[i+1]:\n",
        "        res +=[i]\n",
        "    return res\n",
        "\n",
        "mountain = [2,4,4]\n",
        "result_example = Solution().FindthePeaks(mountain)\n",
        "print(result_example)"
      ],
      "metadata": {
        "id": "Ei5Obg1weXfi",
        "colab": {
          "base_uri": "https://localhost:8080/"
        },
        "outputId": "b32ba968-b0dd-48ad-f97f-2c452b91b49c"
      },
      "execution_count": null,
      "outputs": [
        {
          "output_type": "stream",
          "name": "stdout",
          "text": [
            "[]\n"
          ]
        }
      ]
    },
    {
      "cell_type": "code",
      "source": [
        "#2089. Find Target Indices After Sorting Array\n",
        "class Solution:\n",
        "  def FindTargetIndices(self, nums, target):\n",
        "    res = []\n",
        "    nums = sorted(nums)\n",
        "    for i in range(len(nums)):\n",
        "      if nums[i] == target:\n",
        "        res += [i]\n",
        "    return res\n",
        "\n",
        "nums = [1,2,5,2,3]\n",
        "target = 2\n",
        "result_example = Solution().FindTargetIndices(nums, target)\n",
        "print(result_example)"
      ],
      "metadata": {
        "colab": {
          "base_uri": "https://localhost:8080/"
        },
        "id": "ACj0JN7TZORE",
        "outputId": "6f12d189-6906-4e17-bd49-30b9544e545a"
      },
      "execution_count": null,
      "outputs": [
        {
          "output_type": "stream",
          "name": "stdout",
          "text": [
            "[1, 2]\n"
          ]
        }
      ]
    },
    {
      "cell_type": "code",
      "source": [
        "#2678. Number of Senior Citizens\n",
        "class Solution:\n",
        "  def NumberOfSenior(self,details):\n",
        "    res = 0\n",
        "    for i in details:\n",
        "      if i[11] >= '6':\n",
        "        res += 1\n",
        "\n",
        "    return res\n",
        "details = [\"7868190130M7522\",\"5303914400F9211\",\"9273338290F4010\"]\n",
        "result_example = Solution().NumberOfSenior(details)\n",
        "print(result_example)\n",
        "\n"
      ],
      "metadata": {
        "colab": {
          "base_uri": "https://localhost:8080/"
        },
        "id": "CsmypROdZOUM",
        "outputId": "32b29373-2ea0-43cf-cc5d-af0eec9408f6"
      },
      "execution_count": null,
      "outputs": [
        {
          "output_type": "stream",
          "name": "stdout",
          "text": [
            "2\n"
          ]
        }
      ]
    },
    {
      "cell_type": "code",
      "source": [
        "#682. Baseball Game.  ***difficuite\n",
        "class Solution:\n",
        "  def BaseballGame(self,operations):\n",
        "    res = []\n",
        "    for i in operations:\n",
        "      if i == \"D\":\n",
        "        res.append(res[-1]*2)\n",
        "      elif i == \"C\":\n",
        "        res.pop()\n",
        "      elif i == \"+\":\n",
        "        res.append(res[-1] + res[-2])\n",
        "      else:\n",
        "        res.append(int(i))\n",
        "    return sum(res)\n",
        "operations = [\"5\",\"2\",\"C\",\"D\",\"+\"]\n",
        "result_example = Solution().BaseballGame(operations)\n",
        "print(result_example)\n"
      ],
      "metadata": {
        "colab": {
          "base_uri": "https://localhost:8080/"
        },
        "id": "yFLEN_MOZOW1",
        "outputId": "2f57fb7a-ef7f-4981-95ca-2b80f39cec53"
      },
      "execution_count": null,
      "outputs": [
        {
          "output_type": "stream",
          "name": "stdout",
          "text": [
            "30\n"
          ]
        }
      ]
    },
    {
      "cell_type": "code",
      "source": [
        "#2643. Row With Maximum Ones\n",
        "class Solution:\n",
        "  def RowWith(self, mat):\n",
        "    index = 0\n",
        "    max_count = 0\n",
        "    for i in range(len(mat)):\n",
        "      sumNum = sum(mat[i])\n",
        "      if sumNum > max_count:\n",
        "         index = i\n",
        "         max_count = max(max_count, sumNum)\n",
        "    return [index, max_count]\n",
        "\n",
        "mat = [[0,0,0],[0,1,1]]\n",
        "result_example = Solution().RowWith(mat)\n",
        "print(result_example)\n"
      ],
      "metadata": {
        "colab": {
          "base_uri": "https://localhost:8080/"
        },
        "id": "5oxYL-46ZOaL",
        "outputId": "d4ab2206-0e99-4faf-8f50-6187b17b1699"
      },
      "execution_count": null,
      "outputs": [
        {
          "output_type": "stream",
          "name": "stdout",
          "text": [
            "[1, 2]\n"
          ]
        }
      ]
    },
    {
      "cell_type": "code",
      "source": [
        "#2363. Merge Similar Items\n",
        "class Solution:\n",
        "  def MergeSimilar(self, item1, item2) -> int:\n",
        "    dic = {value: weight for value, weight in item1}\n",
        "    res = []\n",
        "    for item in item2:\n",
        "      value, weight = item\n",
        "      if not dic.get(value, 0):\n",
        "        dic[value] = weight\n",
        "      else:\n",
        "        dic[value] += weight\n",
        "    for value, weight in dic.items():\n",
        "      res.append([value, weight])\n",
        "      res.sort()\n",
        "\n",
        "    return res\n",
        "\n",
        "\n",
        "item1 = [[1,1],[4,5],[3,8]]\n",
        "item2 = [[3,1],[1,5]]\n",
        "result_example = Solution().MergeSimilar(item1, item2)\n",
        "print(result_example)"
      ],
      "metadata": {
        "colab": {
          "base_uri": "https://localhost:8080/"
        },
        "id": "mkvL034cA7DW",
        "outputId": "c94c8f4b-b049-445e-8148-d5ead10c7b53"
      },
      "execution_count": null,
      "outputs": [
        {
          "output_type": "stream",
          "name": "stdout",
          "text": [
            "[[1, 6], [3, 9], [4, 5]]\n"
          ]
        }
      ]
    },
    {
      "cell_type": "code",
      "source": [
        "#2341. Maximum Number of Pairs in Array\n",
        "class Solution:\n",
        "  def MaximumNum(self, nums):\n",
        "    res = [0, nums.copy()]\n",
        "    i = 0\n",
        "    while i < len(nums)-1:\n",
        "      if nums[i] == nums[i+1]:\n",
        "         res[0] += 1\n",
        "         nums.pop(i)\n",
        "         nums.pop(i)\n",
        "      else:\n",
        "        i += 1\n",
        "    res[1] = len(nums)\n",
        "    return res\n",
        "\n",
        "nums = [1,3,2,1,3,2,2]\n",
        "result_example = Solution().MaximumNum(nums)\n",
        "print(result_example)\n",
        "\n"
      ],
      "metadata": {
        "colab": {
          "base_uri": "https://localhost:8080/"
        },
        "id": "r2UfubwGA7Gq",
        "outputId": "fa5e7bd2-2c1d-438d-b035-4e629c08c84d"
      },
      "execution_count": null,
      "outputs": [
        {
          "output_type": "stream",
          "name": "stdout",
          "text": [
            "[1, 5]\n"
          ]
        }
      ]
    },
    {
      "cell_type": "code",
      "source": [
        "#2032. Two Out of Three\n",
        "class Solution:\n",
        "  def TwoOutOfThree(self,nums1, nums2, nums3):\n",
        "    res = []\n",
        "    for i in nums1+nums2+nums3:\n",
        "      if i in nums1 and nums2 or i in nums1 and nums3 or i in nums2 and nums3:\n",
        "        res.append(i)\n",
        "\n",
        "    return set(res)\n",
        "\n",
        "nums1 = [1,1,3,2]\n",
        "nums2 = [2,3]\n",
        "nums3 = [3]\n",
        "result_example = Solution().TwoOutOfThree(nums1, nums2, nums3)\n",
        "print(result_example)"
      ],
      "metadata": {
        "colab": {
          "base_uri": "https://localhost:8080/"
        },
        "id": "pNylUwb-A7IZ",
        "outputId": "0df039cc-26e3-4c20-88ea-1315aa622a0f"
      },
      "execution_count": null,
      "outputs": [
        {
          "output_type": "stream",
          "name": "stdout",
          "text": [
            "{1, 2, 3}\n"
          ]
        }
      ]
    },
    {
      "cell_type": "code",
      "source": [
        "#704. Binary Search\n",
        "class Solution:\n",
        "  def BinarySearch(self,nums,target):\n",
        "    left ,right = 0, len(nums)-1\n",
        "    while left <= right:\n",
        "      mid = (left + right) // 2\n",
        "      if nums[mid] == target:\n",
        "        return mid\n",
        "      elif nums[mid] < target:\n",
        "        left = mid + 1\n",
        "      else:\n",
        "        right = mid - 1\n",
        "    return -1\n",
        "\n",
        "\n",
        "nums = [-1,0,3,5,9,12]\n",
        "target = 9\n",
        "result_example = Solution().BinarySearch(nums, target)\n",
        "print(result_example)"
      ],
      "metadata": {
        "colab": {
          "base_uri": "https://localhost:8080/"
        },
        "id": "Yno9oc44A7KR",
        "outputId": "d31559b7-c37a-4704-f0ed-661d1b767064"
      },
      "execution_count": null,
      "outputs": [
        {
          "output_type": "stream",
          "name": "stdout",
          "text": [
            "4\n"
          ]
        }
      ]
    },
    {
      "cell_type": "code",
      "source": [
        "#74. Search a 2D Matrix\n",
        "class Solution:\n",
        "    def SearchA2DMatrix(self, matrix, target) -> bool:\n",
        "        for i in range(len(matrix)):\n",
        "            for j in range(len(matrix[0])):\n",
        "                if matrix[i][j] == target:\n",
        "                    return True\n",
        "        return False\n",
        "\n",
        "matrix = [[1, 3, 5, 7], [10, 11, 16, 20], [23, 30, 34, 60]]\n",
        "target = 3\n",
        "result_example = Solution().SearchA2DMatrix(matrix, target)\n",
        "print(result_example)\n",
        "\n"
      ],
      "metadata": {
        "colab": {
          "base_uri": "https://localhost:8080/"
        },
        "id": "mQcGiJUnA7NM",
        "outputId": "8f5adf01-dbee-421a-cd10-fd84a4dd3d21"
      },
      "execution_count": null,
      "outputs": [
        {
          "output_type": "stream",
          "name": "stdout",
          "text": [
            "True\n"
          ]
        }
      ]
    },
    {
      "cell_type": "code",
      "source": [
        "#1200. Minimum Absolute Difference\n",
        "from typing import List\n",
        "\n",
        "class Solution:\n",
        "    def minimumAbsDifference(self, arr: List[int]) -> List[List[int]]:\n",
        "        res = []\n",
        "        arr.sort()\n",
        "        min_diff = float('inf')  # 初始设置为正无穷大\n",
        "\n",
        "        for i in range(1, len(arr)):\n",
        "            diff_num = arr[i] - arr[i-1]\n",
        "\n",
        "            # 更新最小差值\n",
        "            if diff_num < min_diff:\n",
        "                min_diff = diff_num\n",
        "                res = [[arr[i-1], arr[i]]]\n",
        "            elif diff_num == min_diff:\n",
        "                res.append([arr[i-1], arr[i]])\n",
        "\n",
        "        return res\n",
        "\n",
        "# 示例用法\n",
        "arr = [4, 2, 1, 3]\n",
        "result_example = Solution().minimumAbsDifference(arr)\n",
        "print(result_example)\n"
      ],
      "metadata": {
        "colab": {
          "base_uri": "https://localhost:8080/"
        },
        "id": "Y-uZiAsiZOcR",
        "outputId": "3cc76b61-2de1-48c0-944a-f52be59e672e"
      },
      "execution_count": null,
      "outputs": [
        {
          "output_type": "stream",
          "name": "stdout",
          "text": [
            "[[1, 2], [2, 3], [3, 4]]\n"
          ]
        }
      ]
    },
    {
      "cell_type": "code",
      "source": [
        "#2506. Count Pairs Of Similar Strings. ****\n",
        "class Solution:\n",
        "  def CountPairOf(self, words):\n",
        "    res = 0\n",
        "    count = dict()\n",
        "    for i in words:\n",
        "      key = \"\".join(sorted(list(set(i))))\n",
        "      count[key] = count.get(key,0) + 1\n",
        "    for j in count.values():\n",
        "        res += j * (j-1) // 2\n",
        "    return res\n",
        "\n",
        "\n",
        "words = [\"aba\",\"aabb\",\"abcd\",\"bac\",\"aabc\"]\n",
        "result_example = Solution().CountPairOf(words)\n",
        "print(result_example)"
      ],
      "metadata": {
        "colab": {
          "base_uri": "https://localhost:8080/"
        },
        "id": "CiO_q5cXc3sY",
        "outputId": "d84c9f1a-833e-463a-e4cf-a07ccc4b2c95"
      },
      "execution_count": null,
      "outputs": [
        {
          "output_type": "stream",
          "name": "stdout",
          "text": [
            "2\n"
          ]
        }
      ]
    },
    {
      "cell_type": "code",
      "source": [
        "#1122. Relative Sort Array\n",
        "class Solution:\n",
        "  def RElativeSort(self, arr1,arr2):\n",
        "    sorted_res = []\n",
        "    for i in arr2:\n",
        "      while i in arr1:\n",
        "        sorted_res.append(i)\n",
        "        arr1.remove(i)\n",
        "\n",
        "    return(sorted_res + sorted(arr1))\n",
        "\n",
        "arr1 = [2,3,1,3,2,4,6,7,9,2,19]\n",
        "arr2 = [2,1,4,3,9,6]\n",
        "result_example = Solution().RElativeSort(arr1,arr2)\n",
        "print(result_example)"
      ],
      "metadata": {
        "colab": {
          "base_uri": "https://localhost:8080/"
        },
        "id": "xik44OaVc3xV",
        "outputId": "3e1c0a6f-a005-4168-d945-3d14bf1011f8"
      },
      "execution_count": null,
      "outputs": [
        {
          "output_type": "stream",
          "name": "stdout",
          "text": [
            "[2, 2, 2, 1, 4, 3, 3, 9, 6, 7, 19]\n"
          ]
        }
      ]
    },
    {
      "cell_type": "code",
      "source": [
        "#1385. Find the Distance Value Between Two Arrays\n",
        "class Solution:\n",
        "    def findTheDistanceValue(self, arr1: List[int], arr2: List[int], d: int) -> int:\n",
        "        res = 0\n",
        "        for i in arr1:\n",
        "            for j in arr2:\n",
        "                if abs(i-j) <= d:\n",
        "                    break\n",
        "            else:\n",
        "                res += 1\n",
        "        return res\n",
        "\n",
        "arr1 = [4,5,8]\n",
        "arr2 = [10,9,1,8]\n",
        "d = 2\n",
        "result_example = Solution().findTheDistanceValue(arr1,arr2,d)\n",
        "print(result_example)"
      ],
      "metadata": {
        "colab": {
          "base_uri": "https://localhost:8080/"
        },
        "id": "xUroN3dac31M",
        "outputId": "9cb329e7-71cc-422a-ed31-b3417f021069"
      },
      "execution_count": null,
      "outputs": [
        {
          "output_type": "stream",
          "name": "stdout",
          "text": [
            "2\n"
          ]
        }
      ]
    },
    {
      "cell_type": "code",
      "source": [
        "#35. Search Insert Position\n",
        "class Solution:\n",
        "  def SearchInsert(self, nums, target):\n",
        "    left, right = 0, len(nums)-1\n",
        "    while left <= right:\n",
        "      mid = (left + right) // 2\n",
        "      if nums[mid] == target:\n",
        "        return mid\n",
        "      elif nums[mid] > target:\n",
        "        right = mid - 1\n",
        "      else:\n",
        "        left = mid + 1\n",
        "    nums.insert(left, target)\n",
        "    return left\n",
        "\n",
        "\n",
        "nums = [1,3,5,6]\n",
        "target = 5\n",
        "result_example = Solution().SearchInsert(nums, target)\n",
        "print(result_example)\n",
        "\n"
      ],
      "metadata": {
        "id": "OJDzr0wfc33f",
        "colab": {
          "base_uri": "https://localhost:8080/"
        },
        "outputId": "2acd4ef1-641f-4adc-935e-7d5d9ca53cb9"
      },
      "execution_count": null,
      "outputs": [
        {
          "output_type": "stream",
          "name": "stdout",
          "text": [
            "2\n"
          ]
        }
      ]
    },
    {
      "cell_type": "code",
      "source": [
        "#69. Sqrt(x)\n",
        "class Solution:\n",
        "  def Squ(self, x):\n",
        "    left, right = 0, x\n",
        "    while left <= right:\n",
        "      mid = (left + right) // 2\n",
        "      if mid * mid > x:\n",
        "        right = mid -1\n",
        "      elif mid * mid < x:\n",
        "        left = mid + 1\n",
        "      else:\n",
        "        return mid\n",
        "    return right\n",
        "\n",
        "x = 4\n",
        "result_example = Solution().Squ(x)\n",
        "print(result_example)"
      ],
      "metadata": {
        "id": "IhxcdZxQc362",
        "colab": {
          "base_uri": "https://localhost:8080/"
        },
        "outputId": "61d1f951-00ce-471a-8e35-b212b6ca7c0f"
      },
      "execution_count": null,
      "outputs": [
        {
          "output_type": "stream",
          "name": "stdout",
          "text": [
            "2\n"
          ]
        }
      ]
    },
    {
      "cell_type": "code",
      "source": [
        "#374. Guess Number Higher or Lower\n",
        "# The guess API is already defined for you. @param num, your guess,@return -1 if num is higher than the picked number\n",
        "#          1 if num is lower than the picked number\n",
        "#          otherwise return 0\n",
        "# def guess(num: int) -> int:\n",
        "class Solution:\n",
        "  def GuessNumber(self, n):\n",
        "    left, right = 0, n\n",
        "    while left <= right:\n",
        "      mid = (left + right) // 2\n",
        "      result = guess(mid)\n",
        "      if result == 0:\n",
        "        return mid\n",
        "      elif result == 1:\n",
        "        left = mid + 1\n",
        "      else:\n",
        "        right = mid - 1\n",
        "\n",
        "n = 10\n",
        "pick = 6\n",
        "result_example = Solution().GuessNumber(n)\n",
        "print(result_example)"
      ],
      "metadata": {
        "id": "47GLj91StDiN"
      },
      "execution_count": null,
      "outputs": []
    },
    {
      "cell_type": "code",
      "source": [
        "#2389. Longest Subsequence With Limited Sum\n",
        "class Solution:\n",
        "  def LongestSubsequence(self, nums, queries):\n",
        "    nums.sort()\n",
        "    num = [nums[0]]\n",
        "    for i in range(1, len(nums)):\n",
        "      num.append([nums[i], nums[-1]])\n",
        "    def Binary_search(arr, target):\n",
        "      left, right = 0, len(nums)-1\n",
        "      while left <= right:\n",
        "        mid = (left + right) // 2\n",
        "        if mid == target:\n",
        "          return mid + 1\n",
        "        elif mid > target:\n",
        "          right = mid - 1\n",
        "        else:\n",
        "          left = mid + 1\n",
        "      return left\n",
        "    res = [0] * len(queries)\n",
        "    for i in range(len(queries)):\n",
        "      res[i] = Binary_search(num, queries[i])\n",
        "    return res\n",
        "\n",
        "nums = [4,5,2,1]\n",
        "queries = [3,10,21]\n",
        "result_example = Solution().LongestSubsequence(nums, queries)\n",
        "print(result_example)\n"
      ],
      "metadata": {
        "colab": {
          "base_uri": "https://localhost:8080/"
        },
        "id": "hBT6eNdGtDoh",
        "outputId": "6eb69e09-40e4-4710-f6f2-7d737a512853"
      },
      "execution_count": null,
      "outputs": [
        {
          "output_type": "stream",
          "name": "stdout",
          "text": [
            "[4, 4, 4]\n"
          ]
        }
      ]
    },
    {
      "cell_type": "code",
      "source": [
        "class Solution:\n",
        "  def LongestSubsequenc(self, nums,queries):\n",
        "    nums.sort()\n",
        "    num = [nums[0]]\n",
        "    for i in range(1, len(nums)):\n",
        "        num.append(nums[i] + num[-1])\n",
        "    def binary_search(arr, target):\n",
        "      left, right = 0, len(nums)-1\n",
        "      while left <= right:\n",
        "        mid = (left + right) // 2\n",
        "        if mid == target:\n",
        "          return mid + 1\n",
        "        elif mid > target:\n",
        "          right = mid - 1\n",
        "        else:\n",
        "          left = mid + 1\n",
        "      return left\n",
        "\n",
        "    res = [0] * len(queries)\n",
        "    for i in range(len(queries)):\n",
        "        res[i] = binary_search(num, queries[i])\n",
        "    return res\n",
        "\n",
        "nums = [4,5,2,1]\n",
        "queries = [3,10,21]\n",
        "result_example = Solution().LongestSubsequenc(nums, queries)\n",
        "print(result_example)\n"
      ],
      "metadata": {
        "colab": {
          "base_uri": "https://localhost:8080/"
        },
        "id": "ybzYAEmZtD7m",
        "outputId": "5eca8e96-ac85-4276-b119-dd19c00e502c"
      },
      "execution_count": null,
      "outputs": [
        {
          "output_type": "stream",
          "name": "stdout",
          "text": [
            "[4, 4, 4]\n"
          ]
        }
      ]
    },
    {
      "cell_type": "markdown",
      "source": [
        "# New Section"
      ],
      "metadata": {
        "id": "Oy19gF7XqFnZ"
      }
    },
    {
      "cell_type": "code",
      "source": [
        "#2389. Longest Subsequence With Limited Sum\n",
        "class Solution:\n",
        "  def GetAnswer(self, partial_sum:list[int], target:list[int]):\n",
        "    left, right = 0, len(partial_sum)\n",
        "    while left < right - 1:\n",
        "      mid = (left + right) // 2\n",
        "      if partial_sum[mid] <= target:\n",
        "         left = mid\n",
        "      else:\n",
        "         right = mid\n",
        "      return left\n",
        "  def Answer_PS(self, nums:list[int], queries:list[int]):\n",
        "    nums.sort()\n",
        "    PS = [0]\n",
        "    for i in nums:\n",
        "        PS.append(PS[-1] + i)\n",
        "    res = []\n",
        "    for q in queries:\n",
        "            res.append(self.GetAnswer(PS, q))\n",
        "    return res\n",
        "nums = [4,5,2,1]\n",
        "queries = [3,10,21]\n",
        "result_example = Solution().Answer_PS(nums, queries)\n",
        "print(result_example)\n"
      ],
      "metadata": {
        "colab": {
          "base_uri": "https://localhost:8080/"
        },
        "id": "EZmVDepKtEJG",
        "outputId": "ad7f961c-8f80-40b7-8f00-197692d0d829"
      },
      "execution_count": null,
      "outputs": [
        {
          "output_type": "stream",
          "name": "stdout",
          "text": [
            "[2, 2, 2]\n"
          ]
        }
      ]
    },
    {
      "cell_type": "code",
      "source": [
        "#278. First Bad Version.  #worry,,, not define \"def isBadVersion(version: int) -> bool:\"\n",
        "class Solution:\n",
        "\n",
        "    def firstBadVersion(self, n: int):\n",
        "       left, right = 0, n\n",
        "       res = 0\n",
        "       while left <= right:\n",
        "         mid = (left + right) // 2\n",
        "         if mid == False:\n",
        "           left = mid + 1\n",
        "         else:\n",
        "           right = mid - 1\n",
        "         res = mid\n",
        "       return res\n",
        "\n",
        "n = 5\n",
        "bad = 4\n",
        "result_example = Solution().firstBadVersion(n)\n",
        "print(result_example)"
      ],
      "metadata": {
        "colab": {
          "base_uri": "https://localhost:8080/"
        },
        "id": "29p3Iz_1tELk",
        "outputId": "4d0cffa2-d53f-485c-fb55-05ea8d84cf7f"
      },
      "execution_count": null,
      "outputs": [
        {
          "output_type": "stream",
          "name": "stdout",
          "text": [
            "1\n"
          ]
        }
      ]
    },
    {
      "cell_type": "code",
      "source": [
        "#1237. Find Positive Integer Solution for a Given Equation.  #need to define f(x,y)\n",
        "class Solution:\n",
        "  def FindPositive(self, castomfunction, z):\n",
        "    res = []\n",
        "    x, y = 1, z\n",
        "    while x <= z and y > 0:\n",
        "      cf = castomfunction.f(x,y)\n",
        "      if cf == z:\n",
        "        res.append([x,y])\n",
        "        x = x + 1\n",
        "        y = y - 1\n",
        "      elif cf > z:\n",
        "        y -= 1\n",
        "      else:\n",
        "        x += 1\n",
        "    return res\n",
        "\n",
        "function_id = 1\n",
        "z = 5\n",
        "result_example = Solution().FindPositive(function_id, z)\n",
        "print(result_example)"
      ],
      "metadata": {
        "id": "u6IUT9gMc38k",
        "colab": {
          "base_uri": "https://localhost:8080/",
          "height": 323
        },
        "outputId": "0c171b32-cba1-4e7a-d0f1-31ed6cb86656"
      },
      "execution_count": null,
      "outputs": [
        {
          "output_type": "error",
          "ename": "AttributeError",
          "evalue": "'int' object has no attribute 'f'",
          "traceback": [
            "\u001b[0;31m---------------------------------------------------------------------------\u001b[0m",
            "\u001b[0;31mAttributeError\u001b[0m                            Traceback (most recent call last)",
            "\u001b[0;32m<ipython-input-3-8a55a9c6c8be>\u001b[0m in \u001b[0;36m<cell line: 20>\u001b[0;34m()\u001b[0m\n\u001b[1;32m     18\u001b[0m \u001b[0mfunction_id\u001b[0m \u001b[0;34m=\u001b[0m \u001b[0;36m1\u001b[0m\u001b[0;34m\u001b[0m\u001b[0;34m\u001b[0m\u001b[0m\n\u001b[1;32m     19\u001b[0m \u001b[0mz\u001b[0m \u001b[0;34m=\u001b[0m \u001b[0;36m5\u001b[0m\u001b[0;34m\u001b[0m\u001b[0;34m\u001b[0m\u001b[0m\n\u001b[0;32m---> 20\u001b[0;31m \u001b[0mresult_example\u001b[0m \u001b[0;34m=\u001b[0m \u001b[0mSolution\u001b[0m\u001b[0;34m(\u001b[0m\u001b[0;34m)\u001b[0m\u001b[0;34m.\u001b[0m\u001b[0mFindPositive\u001b[0m\u001b[0;34m(\u001b[0m\u001b[0mfunction_id\u001b[0m\u001b[0;34m,\u001b[0m \u001b[0mz\u001b[0m\u001b[0;34m)\u001b[0m\u001b[0;34m\u001b[0m\u001b[0;34m\u001b[0m\u001b[0m\n\u001b[0m\u001b[1;32m     21\u001b[0m \u001b[0mprint\u001b[0m\u001b[0;34m(\u001b[0m\u001b[0mresult_example\u001b[0m\u001b[0;34m)\u001b[0m\u001b[0;34m\u001b[0m\u001b[0;34m\u001b[0m\u001b[0m\n",
            "\u001b[0;32m<ipython-input-3-8a55a9c6c8be>\u001b[0m in \u001b[0;36mFindPositive\u001b[0;34m(self, castomfunction, z)\u001b[0m\n\u001b[1;32m      5\u001b[0m     \u001b[0mx\u001b[0m\u001b[0;34m,\u001b[0m \u001b[0my\u001b[0m \u001b[0;34m=\u001b[0m \u001b[0;36m1\u001b[0m\u001b[0;34m,\u001b[0m \u001b[0mz\u001b[0m\u001b[0;34m\u001b[0m\u001b[0;34m\u001b[0m\u001b[0m\n\u001b[1;32m      6\u001b[0m     \u001b[0;32mwhile\u001b[0m \u001b[0mx\u001b[0m \u001b[0;34m<=\u001b[0m \u001b[0mz\u001b[0m \u001b[0;32mand\u001b[0m \u001b[0my\u001b[0m \u001b[0;34m>\u001b[0m \u001b[0;36m0\u001b[0m\u001b[0;34m:\u001b[0m\u001b[0;34m\u001b[0m\u001b[0;34m\u001b[0m\u001b[0m\n\u001b[0;32m----> 7\u001b[0;31m       \u001b[0mcf\u001b[0m \u001b[0;34m=\u001b[0m \u001b[0mcastomfunction\u001b[0m\u001b[0;34m.\u001b[0m\u001b[0mf\u001b[0m\u001b[0;34m(\u001b[0m\u001b[0mx\u001b[0m\u001b[0;34m,\u001b[0m\u001b[0my\u001b[0m\u001b[0;34m)\u001b[0m\u001b[0;34m\u001b[0m\u001b[0;34m\u001b[0m\u001b[0m\n\u001b[0m\u001b[1;32m      8\u001b[0m       \u001b[0;32mif\u001b[0m \u001b[0mcf\u001b[0m \u001b[0;34m==\u001b[0m \u001b[0mz\u001b[0m\u001b[0;34m:\u001b[0m\u001b[0;34m\u001b[0m\u001b[0;34m\u001b[0m\u001b[0m\n\u001b[1;32m      9\u001b[0m         \u001b[0mres\u001b[0m\u001b[0;34m.\u001b[0m\u001b[0mappend\u001b[0m\u001b[0;34m(\u001b[0m\u001b[0;34m[\u001b[0m\u001b[0mx\u001b[0m\u001b[0;34m,\u001b[0m\u001b[0my\u001b[0m\u001b[0;34m]\u001b[0m\u001b[0;34m)\u001b[0m\u001b[0;34m\u001b[0m\u001b[0;34m\u001b[0m\u001b[0m\n",
            "\u001b[0;31mAttributeError\u001b[0m: 'int' object has no attribute 'f'"
          ]
        }
      ]
    },
    {
      "cell_type": "code",
      "source": [
        "#1539. Kth Missing Positive Number\n",
        "class Solution:\n",
        "  def KthMiss(self, arr, k):\n",
        "    left, right = 0, len(arr)-1\n",
        "    while left <= right:\n",
        "      mid = (left + right) // 2\n",
        "      miss_value = arr[mid] - (mid + 1)\n",
        "      if miss_value < k:\n",
        "        left = mid + 1\n",
        "      else:\n",
        "        right = mid - 1\n",
        "    return left + k\n",
        "\n",
        "arr = [1,2,3,4]\n",
        "k = 2\n",
        "result_example = Solution().KthMiss(arr, k)\n",
        "print(result_example)"
      ],
      "metadata": {
        "colab": {
          "base_uri": "https://localhost:8080/"
        },
        "id": "zU1pipKSnDdN",
        "outputId": "99713b22-c741-4a51-cc94-92cf0bfd5064"
      },
      "execution_count": null,
      "outputs": [
        {
          "output_type": "stream",
          "name": "stdout",
          "text": [
            "6\n"
          ]
        }
      ]
    },
    {
      "cell_type": "code",
      "source": [
        "#1608. Special Array With X Elements Greater Than or Equal X\n",
        "class Solution:\n",
        "  def SpecialArray(self, nums):\n",
        "    c = 0\n",
        "    for i in range(0, 1001):\n",
        "      c = 0\n",
        "      for j in nums:\n",
        "        if j >= i:\n",
        "          c += 1\n",
        "      if i == c:\n",
        "        return i\n",
        "    return -1\n",
        "\n",
        "nums = [0,4,3,0,4]\n",
        "result_example = Solution().SpecialArray(nums)\n",
        "print(result_example)"
      ],
      "metadata": {
        "id": "NAzoqCs1nDgV",
        "colab": {
          "base_uri": "https://localhost:8080/"
        },
        "outputId": "8483e387-3624-4683-e727-99a0d92d17db"
      },
      "execution_count": null,
      "outputs": [
        {
          "output_type": "stream",
          "name": "stdout",
          "text": [
            "3\n"
          ]
        }
      ]
    },
    {
      "cell_type": "code",
      "source": [
        "#2970. Count the Number of Incremovable Subarrays I\n",
        "class Solution:\n",
        "  def\n"
      ],
      "metadata": {
        "id": "E5FEhT_m8SyK"
      },
      "execution_count": null,
      "outputs": []
    },
    {
      "cell_type": "code",
      "source": [
        "#2540. Minimum Common Value\n",
        "class Solution:\n",
        "  def MinimumCommon(self, nums1, nums2):\n",
        "    common_value = []\n",
        "    for i in nums1:\n",
        "      if i in nums2:\n",
        "        common_value.append(i)\n",
        "    if common_value:\n",
        "      return min(common_value)\n",
        "    else:\n",
        "      return -1\n",
        "\n",
        "\n",
        "nums1 = [1,2,3]\n",
        "nums2 = [2,4]\n",
        "result_example = Solution().MinimumCommon(nums1, nums2)\n",
        "print(result_example)"
      ],
      "metadata": {
        "id": "6xSnVOoR8S1n",
        "colab": {
          "base_uri": "https://localhost:8080/"
        },
        "outputId": "16fdb1e2-8c6b-4a61-8b47-9a5cf820bc85"
      },
      "execution_count": null,
      "outputs": [
        {
          "output_type": "stream",
          "name": "stdout",
          "text": [
            "2\n"
          ]
        }
      ]
    },
    {
      "cell_type": "code",
      "source": [
        "#2529. Maximum Count of Positive Integer and Negative Integer\n",
        "class Solution:\n",
        "  def MaximunCount(self, nums):\n",
        "    pos, neg = 0, 0\n",
        "    for i in nums:\n",
        "      if i > 0:\n",
        "        pos += 1\n",
        "      elif i < 0:\n",
        "        neg += 1\n",
        "    return max(pos, neg)\n",
        "\n",
        "\n",
        "nums = [-3,-2,-1,0,0,1,2]\n",
        "result_example = Solution().MaximunCount(nums)\n",
        "print(result_example)"
      ],
      "metadata": {
        "id": "jNgfmXAd8S4Z",
        "colab": {
          "base_uri": "https://localhost:8080/"
        },
        "outputId": "9a3d984b-278a-462a-c7c6-11a0bf048026"
      },
      "execution_count": null,
      "outputs": [
        {
          "output_type": "stream",
          "name": "stdout",
          "text": [
            "3\n"
          ]
        }
      ]
    },
    {
      "cell_type": "code",
      "source": [
        "#2824. Count Pairs Whose Sum is Less than Target\n",
        "class Solution:\n",
        "  def CountParis(self, nums, target):\n",
        "    res = 0\n",
        "    nums.sort()\n",
        "    left, right = 0, len(nums) - 1\n",
        "    while left < right:\n",
        "      if nums[left] + nums[right] < target:\n",
        "        res += right -left\n",
        "        left += 1\n",
        "      else:\n",
        "        right -= 1\n",
        "    return res\n",
        "\n",
        "nums = [-1,1,2,3,1]\n",
        "target = 2\n",
        "result_example = Solution().CountParis(nums, target)\n",
        "print(result_example)"
      ],
      "metadata": {
        "id": "PIUoRRDs8S6n",
        "colab": {
          "base_uri": "https://localhost:8080/"
        },
        "outputId": "1f75e3b6-ff61-4be9-8a14-eefbfd1aaaed"
      },
      "execution_count": null,
      "outputs": [
        {
          "output_type": "stream",
          "name": "stdout",
          "text": [
            "3\n"
          ]
        }
      ]
    },
    {
      "cell_type": "code",
      "source": [
        "#2529. Maximum Count of Positive Integer and Negative Integer\n",
        "class Solution:\n",
        "    def maximumCount(self,nums:list[int]) -> int:\n",
        "        left, right = -1, len(nums)\n",
        "        while left < right - 1:\n",
        "        # Find the point where the sequence changes from negative to 0\n",
        "        #   nums[left] < 0\n",
        "        #   nums[right] >= 0\n",
        "            mid = (left + right) // 2\n",
        "            if nums[mid] < 0:\n",
        "                left = mid\n",
        "            else:\n",
        "                right = mid\n",
        "        neg = right\n",
        "        left, right = -1, len(nums)\n",
        "        while left < right - 1:\n",
        "        # Find the point where the sequence changes from 0 to positive\n",
        "        #   nums[left] <= 0\n",
        "        #   nums[right] > 0\n",
        "            mid = (left + right) // 2\n",
        "            if nums[mid] <= 0:\n",
        "                left = mid\n",
        "            else:\n",
        "                right = mid\n",
        "        pos = len(nums) - right\n",
        "        return max(pos, neg)\n",
        "\n",
        "nums = [-3,-2,-1,0,0,1,2]\n",
        "result_example = Solution().maximumCount(nums)\n",
        "print(result_example)"
      ],
      "metadata": {
        "id": "1h3gUrfNnDiv",
        "colab": {
          "base_uri": "https://localhost:8080/"
        },
        "outputId": "3f89f90d-ca80-4200-d202-1a3a1851a20c"
      },
      "execution_count": null,
      "outputs": [
        {
          "output_type": "stream",
          "name": "stdout",
          "text": [
            "3\n"
          ]
        }
      ]
    },
    {
      "cell_type": "code",
      "source": [
        "#1011. Capacity To Ship Packages Within D Days\n",
        "class Solution:\n",
        "    def shipWithinDays(self, weights: list[int], days: int) -> int:\n",
        "        def greedilyCalcMinDays(maxWeight):\n",
        "            sum,cnt=0,0\n",
        "            for weight in weights:\n",
        "                sum+=weight\n",
        "                if sum>maxWeight:cnt+=1;sum=weight\n",
        "            return cnt+1\n",
        "        low=max(weights)\n",
        "        high=sum(weights)\n",
        "        while low<=high:\n",
        "            mid=(low+high)//2\n",
        "            if greedilyCalcMinDays(mid)<=days:high=mid-1\n",
        "            else:low=mid+1\n",
        "\n",
        "        return low\n",
        "\n",
        "solution = Solution()\n",
        "weights = [1, 2, 3, 4, 5, 6, 7, 8, 9, 10]\n",
        "days = 5\n",
        "print(solution.shipWithinDays(weights, days))"
      ],
      "metadata": {
        "id": "KXyXR-ZAnDlT",
        "colab": {
          "base_uri": "https://localhost:8080/"
        },
        "outputId": "5ab8e5f6-62fe-42db-ad8c-82c4657b2a4f"
      },
      "execution_count": null,
      "outputs": [
        {
          "output_type": "stream",
          "name": "stdout",
          "text": [
            "15\n"
          ]
        }
      ]
    },
    {
      "cell_type": "code",
      "source": [
        "#2358. Maximum Number of Groups Entering a Competition\n",
        "class Solution:\n",
        "  def MaximumNumber(self, grades):\n",
        "    #n=count_student\n",
        "    n = len(grades)\n",
        "    #k=max_groups\n",
        "    k = 1\n",
        "    while k * (k + 1) // 2 <= n:\n",
        "      k += 1\n",
        "    return k - 1\n",
        "\n",
        "grades = [10,6,12,7,3,5]\n",
        "result_example = Solution().MaximumNumber(grades)\n",
        "print(result_example)"
      ],
      "metadata": {
        "colab": {
          "base_uri": "https://localhost:8080/"
        },
        "id": "lv6YQyyAM66_",
        "outputId": "e2e2b082-88f7-4633-bf56-25681fc3a30f"
      },
      "execution_count": null,
      "outputs": [
        {
          "output_type": "stream",
          "name": "stdout",
          "text": [
            "3\n"
          ]
        }
      ]
    },
    {
      "cell_type": "code",
      "source": [
        "#2024. Maximize the Confusion of an Exam\n",
        "class Solution:\n",
        "  def"
      ],
      "metadata": {
        "id": "XXfvi4UVM6-A"
      },
      "execution_count": null,
      "outputs": []
    },
    {
      "cell_type": "code",
      "source": [
        "#1268. Search Suggestions System\n",
        "class Solution:\n",
        "  def SearchSuggestions(self, products, searchWord):\n",
        "    products.sort()\n",
        "    res = []\n",
        "    perfix = \"\"\n",
        "    for i in searchWord:\n",
        "      perfix += i\n",
        "      suggestions = []\n",
        "      for p in products:\n",
        "        if p.startswith(perfix):\n",
        "          suggestions.append(p)\n",
        "          if len(suggestions) == 3:\n",
        "            break\n",
        "      res.append(suggestions)\n",
        "    return res\n",
        "\n",
        "products = [\"mobile\",\"mouse\",\"moneypot\",\"monitor\",\"mousepad\"]\n",
        "searchWord = \"mouse\"\n",
        "result_example = Solution().SearchSuggestions(products, searchWord)\n",
        "print(result_example)"
      ],
      "metadata": {
        "id": "cqjPmSloM7B3",
        "colab": {
          "base_uri": "https://localhost:8080/"
        },
        "outputId": "341e5d93-6831-45b9-a641-efaeafee00b5"
      },
      "execution_count": null,
      "outputs": [
        {
          "output_type": "stream",
          "name": "stdout",
          "text": [
            "[['mobile', 'moneypot', 'monitor'], ['mobile', 'moneypot', 'monitor'], ['mouse', 'mousepad'], ['mouse', 'mousepad'], ['mouse', 'mousepad']]\n"
          ]
        }
      ]
    },
    {
      "cell_type": "code",
      "source": [
        "#2024. Maximize the Confusion of an Exam\n",
        "class Solutions:\n",
        "  def"
      ],
      "metadata": {
        "id": "m696vXYAM7FM"
      },
      "execution_count": null,
      "outputs": []
    },
    {
      "cell_type": "code",
      "source": [
        "#2439. Minimize Maximum of Array\n",
        "class Solutions:\n",
        "  def"
      ],
      "metadata": {
        "id": "oj2U8uG4M7IZ"
      },
      "execution_count": null,
      "outputs": []
    },
    {
      "cell_type": "code",
      "source": [],
      "metadata": {
        "id": "Kw01Oy4ayaTJ"
      },
      "execution_count": null,
      "outputs": []
    },
    {
      "cell_type": "code",
      "source": [
        "产品     单价     销量\n",
        "A       10      100\n",
        "B       15      150\n",
        "C       20      200\n"
      ],
      "metadata": {
        "id": "gv4Mx1jQyaW3",
        "outputId": "d9f62467-985c-48de-8ef6-77edf954ce01",
        "colab": {
          "base_uri": "https://localhost:8080/",
          "height": 108
        }
      },
      "execution_count": null,
      "outputs": [
        {
          "output_type": "error",
          "ename": "SyntaxError",
          "evalue": "invalid syntax (<ipython-input-1-dc8e38ad057d>, line 1)",
          "traceback": [
            "\u001b[0;36m  File \u001b[0;32m\"<ipython-input-1-dc8e38ad057d>\"\u001b[0;36m, line \u001b[0;32m1\u001b[0m\n\u001b[0;31m    产品     单价     销量\u001b[0m\n\u001b[0m           ^\u001b[0m\n\u001b[0;31mSyntaxError\u001b[0m\u001b[0;31m:\u001b[0m invalid syntax\n"
          ]
        }
      ]
    },
    {
      "cell_type": "code",
      "source": [
        "=SUMPRODUCT(B2:B4, C2:C4)\n"
      ],
      "metadata": {
        "id": "V0TMSEjMyaZ4"
      },
      "execution_count": null,
      "outputs": []
    },
    {
      "cell_type": "code",
      "source": [],
      "metadata": {
        "id": "djkzziczyac4"
      },
      "execution_count": null,
      "outputs": []
    }
  ]
}